{
 "cells": [
  {
   "cell_type": "markdown",
   "source": [
    "<h1>Classification algorithms<h1/>"
   ],
   "metadata": {
    "collapsed": false
   }
  },
  {
   "cell_type": "markdown",
   "source": [
    "<h2>Imports</h2>"
   ],
   "metadata": {
    "collapsed": false
   }
  },
  {
   "cell_type": "code",
   "execution_count": 2,
   "outputs": [],
   "source": [
    "import xgboost as xgb\n",
    "import lightgbm as lgb\n",
    "from parameters import *\n",
    "from catboost import CatBoostClassifier\n",
    "from sklearn.model_selection import train_test_split\n",
    "from sklearn.ensemble import StackingClassifier\n",
    "from sklearn.metrics import confusion_matrix, average_precision_score, f1_score\n",
    "import pandas as pd\n",
    "import pickle"
   ],
   "metadata": {
    "collapsed": false
   }
  },
  {
   "cell_type": "markdown",
   "source": [
    "<h2>Loading data</h2>"
   ],
   "metadata": {
    "collapsed": false
   }
  },
  {
   "cell_type": "code",
   "execution_count": 13,
   "outputs": [],
   "source": [
    "classes = pd.read_csv('../data/elliptic_txs_classes.csv')\n",
    "features = pd.read_csv('../data/elliptic_txs_features.csv', header=None)\n",
    "\n",
    "data = features.merge(classes, left_on=0, right_on='txId', how='left')\n",
    "data = data.loc[data['class'] != 'unknown']\n",
    "\n",
    "y = (data['class'].astype(int)-2)*(-1)\n",
    "X = data.drop([1, 'txId', 0, 'class'], axis=1)\n",
    "X_train, X_test, y_train, y_test = train_test_split(X, y, test_size=0.3, random_state=42)"
   ],
   "metadata": {
    "collapsed": false
   }
  },
  {
   "cell_type": "markdown",
   "source": [
    "<h3>Extreme Gradient Boost</h3>"
   ],
   "metadata": {
    "collapsed": false
   }
  },
  {
   "cell_type": "code",
   "execution_count": 14,
   "outputs": [
    {
     "name": "stdout",
     "output_type": "stream",
     "text": [
      "[[12577    10]\n",
      " [  217  1166]]\n",
      "0.9653001068834757\n",
      "0.9112934740132863\n"
     ]
    }
   ],
   "source": [
    "dtrain = xgb.DMatrix(X_train, label=y_train)\n",
    "dtest = xgb.DMatrix(X_test, label=y_test)\n",
    "\n",
    "xgb_model = xgb.train(parameter_xgb, dtrain)\n",
    "\n",
    "y_pred = xgb_model.predict(dtest)\n",
    "print(confusion_matrix(y_test, (y_pred > 0.5).astype(int)))\n",
    "print(average_precision_score(y_test, y_pred))\n",
    "print(f1_score(y_test, (y_pred > 0.5).astype(int)))\n",
    "\n",
    "pickle.dump(xgb_model, open('../models_result/xgboost' + '.sav', 'wb'))"
   ],
   "metadata": {
    "collapsed": false
   }
  },
  {
   "cell_type": "code",
   "execution_count": 12,
   "outputs": [
    {
     "name": "stdout",
     "output_type": "stream",
     "text": [
      "0.9653001068834757\n",
      "0.9112934740132863\n"
     ]
    }
   ],
   "source": [
    "print(average_precision_score(y_test, y_pred, average='macro'))\n",
    "print(f1_score(y_test, (y_pred > 0.5).astype(int)))"
   ],
   "metadata": {
    "collapsed": false
   }
  },
  {
   "cell_type": "markdown",
   "source": [
    "<h3>Cat Boost Classifier</h3>"
   ],
   "metadata": {
    "collapsed": false
   }
  },
  {
   "cell_type": "code",
   "execution_count": 15,
   "outputs": [
    {
     "name": "stdout",
     "output_type": "stream",
     "text": [
      "[[12581     6]\n",
      " [  120  1263]]\n",
      "0.9175040571939735\n",
      "0.9524886877828054\n"
     ]
    }
   ],
   "source": [
    "cat_model = CatBoostClassifier()\n",
    "cat_model.set_params(**parameter_cat)\n",
    "cat_model.fit(X_train, y_train, verbose=False)\n",
    "\n",
    "y_pred = cat_model.predict(X_test)\n",
    "print(confusion_matrix(y_test, (y_pred > 0.5).astype(int)))\n",
    "print(average_precision_score(y_test, y_pred))\n",
    "print(f1_score(y_test, (y_pred > 0.5).astype(int)))\n",
    "\n",
    "pickle.dump(cat_model, open('../models_result/catboost' + '.sav', 'wb'))"
   ],
   "metadata": {
    "collapsed": false
   }
  },
  {
   "cell_type": "markdown",
   "source": [
    "<h3>Light Gradient Boost</h3>"
   ],
   "metadata": {
    "collapsed": false
   }
  },
  {
   "cell_type": "code",
   "execution_count": 22,
   "outputs": [
    {
     "name": "stderr",
     "output_type": "stream",
     "text": [
      "C:\\Users\\waeto\\Desktop\\Projects\\MastersThesis\\venv\\lib\\site-packages\\lightgbm\\engine.py:177: UserWarning: Found `n_estimators` in params. Will use it instead of argument\n",
      "  _log_warning(f\"Found `{alias}` in params. Will use it instead of argument\")\n",
      "C:\\Users\\waeto\\Desktop\\Projects\\MastersThesis\\venv\\lib\\site-packages\\lightgbm\\basic.py:1487: UserWarning: silent keyword has been found in `params` and will be ignored.\n",
      "Please use silent argument of the Dataset constructor to pass this parameter.\n",
      "  _log_warning(f'{key} keyword has been found in `params` and will be ignored.\\n'\n"
     ]
    },
    {
     "name": "stdout",
     "output_type": "stream",
     "text": [
      "[LightGBM] [Warning] Unknown parameter: importance_type\n",
      "[LightGBM] [Warning] Unknown parameter: silent\n",
      "[LightGBM] [Warning] Unknown parameter: importance_type\n",
      "[LightGBM] [Warning] Unknown parameter: silent\n",
      "[LightGBM] [Warning] Auto-choosing col-wise multi-threading, the overhead of testing was 0.032192 seconds.\n",
      "You can set `force_col_wise=true` to remove the overhead.\n",
      "[LightGBM] [Info] Total Bins 38638\n",
      "[LightGBM] [Info] Number of data points in the train set: 31197, number of used features: 165\n",
      "[LightGBM] [Info] Start training from score 0.902875\n",
      "[[ 1332   183]\n",
      " [   13 13839]]\n"
     ]
    }
   ],
   "source": [
    "train = lgb.Dataset(X_train, label=y_train)\n",
    "\n",
    "lgb_model = lgb.train(parameter_lgb, train)\n",
    "\n",
    "ypred = lgb_model.predict(X_test)\n",
    "print(confusion_matrix(y_test, (ypred > 0.5).astype(int)))\n",
    "\n",
    "pickle.dump(lgb_model, open('../models_result/lgboost' + '.sav', 'wb'))"
   ],
   "metadata": {
    "collapsed": false
   }
  }
 ],
 "metadata": {
  "kernelspec": {
   "display_name": "Python 3",
   "language": "python",
   "name": "python3"
  },
  "language_info": {
   "codemirror_mode": {
    "name": "ipython",
    "version": 2
   },
   "file_extension": ".py",
   "mimetype": "text/x-python",
   "name": "python",
   "nbconvert_exporter": "python",
   "pygments_lexer": "ipython2",
   "version": "2.7.6"
  }
 },
 "nbformat": 4,
 "nbformat_minor": 0
}
