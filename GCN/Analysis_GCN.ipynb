{
 "cells": [
  {
   "cell_type": "code",
   "execution_count": null,
   "outputs": [],
   "source": [
    "# importing relevant packages\n",
    "from joblib import Parallel, delayed\n",
    "from GCN.data_prep import (data_prep, reader)\n",
    "from GCN.trains import (train_1segment, multiproc)\n",
    "import time"
   ],
   "metadata": {
    "collapsed": false,
    "pycharm": {
     "is_executing": true
    }
   }
  },
  {
   "cell_type": "markdown",
   "source": [
    "GCN for 1 timestamp"
   ],
   "metadata": {
    "collapsed": false
   }
  },
  {
   "cell_type": "code",
   "execution_count": null,
   "outputs": [],
   "source": [
    "# reading and preparing data\n",
    "d = reader('../data/')\n",
    "data_train, X_train, X_valid, y_train, y_valid, train_idx, valid_idx, classified_idx, unclassified_idx = data_prep(\n",
    "    d['features'],\n",
    "    d['edges'],\n",
    "    d['classes'],\n",
    "    0)"
   ],
   "metadata": {
    "collapsed": false
   }
  },
  {
   "cell_type": "code",
   "execution_count": 5,
   "outputs": [
    {
     "name": "stdout",
     "output_type": "stream",
     "text": [
      "epoch gcn: 0 - loss: 0.5546199554253347 - roc: 0.6507671312853865\n",
      "epoch gcn: 5 - loss: 0.5092342903911093 - roc: 0.6839074944697763\n",
      "epoch gcn: 10 - loss: 0.4719061857553878 - roc: 0.7106911552687616\n",
      "epoch gcn: 15 - loss: 0.4418315641093453 - roc: 0.7306510804437121\n",
      "epoch gcn: 20 - loss: 0.4171828085930883 - roc: 0.7466672756839434\n",
      "epoch gcn: 25 - loss: 0.39602974840890404 - roc: 0.7615330254983897\n",
      "epoch gcn: 30 - loss: 0.3768173766526563 - roc: 0.7765937584465271\n",
      "epoch gcn: 35 - loss: 0.36025134978541756 - roc: 0.7863229906408964\n",
      "epoch gcn: 40 - loss: 0.34781538408673207 - roc: 0.7966928216490392\n",
      "epoch gcn: 45 - loss: 0.3361215425175732 - roc: 0.8034580739296141\n",
      "epoch gcn: 50 - loss: 0.32598378280928997 - roc: 0.8101634295253025\n",
      "epoch gcn: 55 - loss: 0.31750960817132184 - roc: 0.8158935650405373\n",
      "epoch gcn: 60 - loss: 0.3097982770977721 - roc: 0.8219164651724986\n",
      "epoch gcn: 65 - loss: 0.30204133618058115 - roc: 0.8269367698877504\n",
      "epoch gcn: 70 - loss: 0.29611566713120924 - roc: 0.8316474006244852\n",
      "epoch gcn: 75 - loss: 0.29077703605901806 - roc: 0.8353834998317181\n",
      "epoch gcn: 80 - loss: 0.2852102670591652 - roc: 0.8404283532003717\n",
      "epoch gcn: 85 - loss: 0.2815892585802128 - roc: 0.8412355451049144\n",
      "epoch gcn: 90 - loss: 0.27712095090705174 - roc: 0.8456833958068899\n",
      "epoch gcn: 95 - loss: 0.2728249809541228 - roc: 0.8492510029723077\n",
      "epoch gcn: 100 - loss: 0.269700250048624 - roc: 0.8511983772695039\n",
      "epoch gcn: 105 - loss: 0.26709465079136224 - roc: 0.8531799761729482\n",
      "epoch gcn: 110 - loss: 0.2634751917033093 - roc: 0.8567825617267084\n",
      "epoch gcn: 115 - loss: 0.2610705198037149 - roc: 0.8583766151629589\n",
      "epoch gcn: 120 - loss: 0.2578389605822387 - roc: 0.8627638951249057\n",
      "epoch gcn: 125 - loss: 0.25692929813709686 - roc: 0.8617513628307786\n",
      "epoch gcn: 130 - loss: 0.25383168343562784 - roc: 0.8646086970740235\n",
      "epoch gcn: 135 - loss: 0.25202505521202656 - roc: 0.8663737793187531\n",
      "epoch gcn: 140 - loss: 0.24969269144995243 - roc: 0.8689710804831408\n",
      "epoch gcn: 145 - loss: 0.248073785722309 - roc: 0.8702953524086396\n",
      "epoch gcn: 150 - loss: 0.2459777423837917 - roc: 0.8732761402135586\n",
      "epoch gcn: 155 - loss: 0.24446945500122952 - roc: 0.8738363235240867\n",
      "epoch gcn: 160 - loss: 0.24258677699435577 - roc: 0.8760571540197446\n",
      "epoch gcn: 165 - loss: 0.24144076889344782 - roc: 0.8767546416379314\n",
      "epoch gcn: 170 - loss: 0.24036330414479767 - roc: 0.8782978220307139\n",
      "epoch gcn: 175 - loss: 0.23854807010720433 - roc: 0.8791878284949752\n",
      "epoch gcn: 180 - loss: 0.23697525469787553 - roc: 0.8813546186127875\n",
      "epoch gcn: 185 - loss: 0.2359419777605975 - roc: 0.8826663009277289\n",
      "epoch gcn: 190 - loss: 0.2343258824140268 - roc: 0.8839994370407419\n",
      "epoch gcn: 195 - loss: 0.23315898014979097 - roc: 0.8852405610029037\n",
      "epoch gcn: 200 - loss: 0.2316553873368663 - roc: 0.887075194141652\n",
      "epoch gcn: 205 - loss: 0.23087449922545425 - roc: 0.8876164894123911\n",
      "epoch gcn: 210 - loss: 0.22992887470804643 - roc: 0.888808240647369\n",
      "epoch gcn: 215 - loss: 0.22882601491456048 - roc: 0.8897709001088838\n",
      "epoch gcn: 220 - loss: 0.2278967991347961 - roc: 0.890449144539949\n",
      "epoch gcn: 225 - loss: 0.2266250400671683 - roc: 0.891606359508774\n",
      "epoch gcn: 230 - loss: 0.22557796369545832 - roc: 0.8926462453954424\n",
      "epoch gcn: 235 - loss: 0.22456190138988857 - roc: 0.8939624069155215\n",
      "epoch gcn: 240 - loss: 0.22391363618605134 - roc: 0.894536868598415\n",
      "epoch gcn: 245 - loss: 0.22329851203903917 - roc: 0.895226513983658\n",
      "epoch gcn: 250 - loss: 0.22181226706729576 - roc: 0.8969013815579151\n",
      "epoch gcn: 255 - loss: 0.22066713218672265 - roc: 0.8976925193534276\n",
      "epoch gcn: 260 - loss: 0.21992412790944638 - roc: 0.8991567555676303\n",
      "epoch gcn: 265 - loss: 0.21901288460762697 - roc: 0.899902412760812\n",
      "epoch gcn: 270 - loss: 0.21834702053484067 - roc: 0.9004404537223166\n",
      "epoch gcn: 275 - loss: 0.21773186959757238 - roc: 0.9007769232047093\n",
      "epoch gcn: 280 - loss: 0.21695120263799605 - roc: 0.9013970829270761\n",
      "epoch gcn: 285 - loss: 0.21629023069732664 - roc: 0.9022456531198593\n",
      "epoch gcn: 290 - loss: 0.21537773189359674 - roc: 0.9028252028318897\n",
      "epoch gcn: 295 - loss: 0.21442719135497912 - roc: 0.9038033003305305\n",
      "epoch gcn: 300 - loss: 0.21357543987361047 - roc: 0.9047566897218651\n",
      "epoch gcn: 305 - loss: 0.2124696738567362 - roc: 0.9058214866571727\n",
      "epoch gcn: 310 - loss: 0.211921442486763 - roc: 0.9063171201279621\n",
      "epoch gcn: 315 - loss: 0.21113251388603568 - roc: 0.9073543605293951\n",
      "epoch gcn: 320 - loss: 0.21048841356901132 - roc: 0.9076891195062657\n",
      "epoch gcn: 325 - loss: 0.2102750507389639 - roc: 0.9075306440688207\n",
      "epoch gcn: 330 - loss: 0.2096071086391996 - roc: 0.9080662714780421\n",
      "epoch gcn: 335 - loss: 0.2090657051727917 - roc: 0.9087332454172151\n",
      "epoch gcn: 340 - loss: 0.20792807869614052 - roc: 0.9095817576267601\n",
      "epoch gcn: 345 - loss: 0.20778948224344596 - roc: 0.9092306038893357\n",
      "epoch gcn: 350 - loss: 0.20670631408117243 - roc: 0.9108542432727919\n",
      "epoch gcn: 355 - loss: 0.20642099367727654 - roc: 0.9107859245225812\n",
      "epoch gcn: 360 - loss: 0.20564406760230303 - roc: 0.9118627167402565\n",
      "epoch gcn: 365 - loss: 0.2049233980335818 - roc: 0.9122974170757795\n",
      "epoch gcn: 370 - loss: 0.20504471426959048 - roc: 0.9115149477743527\n",
      "epoch gcn: 375 - loss: 0.204055522244373 - roc: 0.9126645306994717\n",
      "epoch gcn: 380 - loss: 0.20343840188314308 - roc: 0.9132647514358607\n",
      "epoch gcn: 385 - loss: 0.20205084388416764 - roc: 0.9146159275838063\n",
      "epoch gcn: 390 - loss: 0.20191156446210023 - roc: 0.9145688306987151\n",
      "epoch gcn: 395 - loss: 0.2017840524555435 - roc: 0.9143777831773059\n",
      "epoch gcn: 400 - loss: 0.2011431511134434 - roc: 0.9153247219334093\n",
      "epoch gcn: 405 - loss: 0.20059140041527168 - roc: 0.9154796386496202\n",
      "epoch gcn: 410 - loss: 0.2000466167967459 - roc: 0.9159646756836592\n",
      "epoch gcn: 415 - loss: 0.20018732738434988 - roc: 0.9154114431137903\n",
      "epoch gcn: 420 - loss: 0.19917258869628948 - roc: 0.9167906831489433\n",
      "epoch gcn: 425 - loss: 0.19863002972953758 - roc: 0.9171296459105711\n",
      "epoch gcn: 430 - loss: 0.19824565100548353 - roc: 0.9178277423527574\n",
      "epoch gcn: 435 - loss: 0.1975141838521898 - roc: 0.9177059848007959\n",
      "epoch gcn: 440 - loss: 0.19735845807461944 - roc: 0.9179947920615266\n",
      "epoch gcn: 445 - loss: 0.19713555819392217 - roc: 0.918039228965573\n",
      "epoch gcn: 450 - loss: 0.1966530284327514 - roc: 0.9179691272307928\n",
      "epoch gcn: 455 - loss: 0.19533527568406922 - roc: 0.9196594473379851\n",
      "epoch gcn: 460 - loss: 0.19460972965785056 - roc: 0.9201247410794746\n",
      "epoch gcn: 465 - loss: 0.1951529284228071 - roc: 0.9192412142420632\n",
      "epoch gcn: 470 - loss: 0.19468400564990132 - roc: 0.9196647890437888\n",
      "epoch gcn: 475 - loss: 0.1939739166942425 - roc: 0.9202721199747415\n",
      "epoch gcn: 480 - loss: 0.19321031706706615 - roc: 0.9213635674558291\n",
      "epoch gcn: 485 - loss: 0.19328855196660868 - roc: 0.9207868154350336\n",
      "epoch gcn: 490 - loss: 0.1927178793151322 - roc: 0.9214160132946287\n",
      "epoch gcn: 495 - loss: 0.19249566202566007 - roc: 0.9211325115001779\n",
      "epoch gcn: 500 - loss: 0.19221098710700163 - roc: 0.9215323639096439\n",
      "epoch gcn: 505 - loss: 0.19165200076414315 - roc: 0.9216612244082644\n",
      "epoch gcn: 510 - loss: 0.19088475879195876 - roc: 0.9226128743024581\n",
      "epoch gcn: 515 - loss: 0.19089948738100365 - roc: 0.9225076492212403\n",
      "epoch gcn: 520 - loss: 0.19041141578126847 - roc: 0.9229138435473658\n",
      "epoch gcn: 525 - loss: 0.19006456831558424 - roc: 0.9228072051247209\n",
      "epoch gcn: 530 - loss: 0.18949537836093003 - roc: 0.9237068730460192\n",
      "epoch gcn: 535 - loss: 0.1891882861060392 - roc: 0.9239269411780633\n",
      "epoch gcn: 540 - loss: 0.18890392890580598 - roc: 0.9237830122854594\n",
      "epoch gcn: 545 - loss: 0.18846898564771117 - roc: 0.9244978006522939\n",
      "epoch gcn: 550 - loss: 0.18836289560836464 - roc: 0.9241679485069418\n",
      "epoch gcn: 555 - loss: 0.18812811862697126 - roc: 0.9237232315670487\n",
      "epoch gcn: 560 - loss: 0.18773336076749447 - roc: 0.9241542862064805\n",
      "epoch gcn: 565 - loss: 0.1869465605263351 - roc: 0.9255922415180452\n",
      "epoch gcn: 570 - loss: 0.18629567682996595 - roc: 0.9259467220437514\n",
      "epoch gcn: 575 - loss: 0.18563174556578046 - roc: 0.9263260918743826\n",
      "epoch gcn: 580 - loss: 0.1856627845029563 - roc: 0.9260528531130634\n",
      "epoch gcn: 585 - loss: 0.18528607752825269 - roc: 0.9262457053627566\n",
      "epoch gcn: 590 - loss: 0.18494110904914102 - roc: 0.926269282796921\n",
      "epoch gcn: 595 - loss: 0.18523424942329675 - roc: 0.9261715737929332\n",
      "epoch gcn: 600 - loss: 0.18415652832678722 - roc: 0.9270608844583381\n",
      "epoch gcn: 605 - loss: 0.18443970539926666 - roc: 0.9271372918702543\n",
      "epoch gcn: 610 - loss: 0.18381031585255733 - roc: 0.9270370750912214\n",
      "epoch gcn: 615 - loss: 0.18328861524918738 - roc: 0.9277968004675304\n",
      "epoch gcn: 620 - loss: 0.18313428382356278 - roc: 0.9277085137397226\n",
      "epoch gcn: 625 - loss: 0.18263120384547626 - roc: 0.9278203923975046\n",
      "epoch gcn: 630 - loss: 0.18273847317586336 - roc: 0.9279472017390796\n",
      "epoch gcn: 635 - loss: 0.1827360486737411 - roc: 0.9273548594751583\n",
      "epoch gcn: 640 - loss: 0.1817545524871959 - roc: 0.9287778768550252\n",
      "epoch gcn: 645 - loss: 0.1816995978358598 - roc: 0.9283566503744399\n",
      "epoch gcn: 650 - loss: 0.18098102508139274 - roc: 0.929544473245041\n",
      "epoch gcn: 655 - loss: 0.1812835281530159 - roc: 0.9290887684815411\n",
      "epoch gcn: 660 - loss: 0.18091158388556677 - roc: 0.9292805480413305\n",
      "epoch gcn: 665 - loss: 0.17961749122431891 - roc: 0.9304240789659802\n",
      "epoch gcn: 670 - loss: 0.18058036838662203 - roc: 0.9288052666870904\n",
      "epoch gcn: 675 - loss: 0.17983206648727715 - roc: 0.9298579668693636\n",
      "epoch gcn: 680 - loss: 0.17956480078008905 - roc: 0.9297921341504833\n",
      "epoch gcn: 685 - loss: 0.17902878073807696 - roc: 0.9305510332656505\n",
      "epoch gcn: 690 - loss: 0.17846308925001017 - roc: 0.9308786675521481\n",
      "epoch gcn: 695 - loss: 0.1786149013670132 - roc: 0.9309273444804755\n",
      "epoch gcn: 700 - loss: 0.1773914990134503 - roc: 0.9318075227858906\n",
      "epoch gcn: 705 - loss: 0.17782065260068375 - roc: 0.9311521962296575\n",
      "epoch gcn: 710 - loss: 0.1780275048945225 - roc: 0.9307179597600387\n",
      "epoch gcn: 715 - loss: 0.1771359618303143 - roc: 0.9318841621307589\n",
      "epoch gcn: 720 - loss: 0.1772017551964651 - roc: 0.9317327534004487\n",
      "epoch gcn: 725 - loss: 0.17733590297875929 - roc: 0.9317119084263764\n",
      "epoch gcn: 730 - loss: 0.17605913093240583 - roc: 0.9328373993160936\n",
      "epoch gcn: 735 - loss: 0.1766638215596843 - roc: 0.9324208984694079\n",
      "epoch gcn: 740 - loss: 0.17650612493762785 - roc: 0.9317092339495221\n",
      "epoch gcn: 745 - loss: 0.17609293128367703 - roc: 0.9320754633288345\n",
      "epoch gcn: 750 - loss: 0.1754183633909257 - roc: 0.9329109220619176\n",
      "epoch gcn: 755 - loss: 0.17479830938957452 - roc: 0.9331462832729928\n",
      "epoch gcn: 760 - loss: 0.1750313002839573 - roc: 0.9330766671478309\n",
      "epoch gcn: 765 - loss: 0.17448713328135165 - roc: 0.9332881102732178\n",
      "epoch gcn: 770 - loss: 0.17475850091603684 - roc: 0.9333133982129043\n",
      "epoch gcn: 775 - loss: 0.1737283942112788 - roc: 0.9342206039551467\n",
      "epoch gcn: 780 - loss: 0.1737056400728358 - roc: 0.9339578529120065\n",
      "epoch gcn: 785 - loss: 0.17380378068815525 - roc: 0.9341780804979554\n",
      "epoch gcn: 790 - loss: 0.17313767143332212 - roc: 0.9342178787429594\n",
      "epoch gcn: 795 - loss: 0.17346797030920677 - roc: 0.9339303833529892\n",
      "epoch gcn: 800 - loss: 0.1733327180702017 - roc: 0.933923729776425\n",
      "epoch gcn: 805 - loss: 0.17235747064884147 - roc: 0.934901290930114\n",
      "epoch gcn: 810 - loss: 0.17295412039951463 - roc: 0.9341945114980327\n",
      "epoch gcn: 815 - loss: 0.17168941394256965 - roc: 0.935625378358748\n",
      "epoch gcn: 820 - loss: 0.17143984151025884 - roc: 0.9354895453757541\n",
      "epoch gcn: 825 - loss: 0.17157902670549333 - roc: 0.9357828825769562\n",
      "epoch gcn: 830 - loss: 0.17167825580071128 - roc: 0.9353031292654824\n",
      "epoch gcn: 835 - loss: 0.17135314710072816 - roc: 0.9357308933561559\n",
      "epoch gcn: 840 - loss: 0.17115749731641752 - roc: 0.9355372728285589\n",
      "epoch gcn: 845 - loss: 0.17103751877074572 - roc: 0.9357770842531529\n",
      "epoch gcn: 850 - loss: 0.17064596123310571 - roc: 0.9364266777167256\n",
      "epoch gcn: 855 - loss: 0.17008481296223368 - roc: 0.9365502327490662\n",
      "epoch gcn: 860 - loss: 0.17030405497753642 - roc: 0.9362019491819246\n",
      "epoch gcn: 865 - loss: 0.17021082487168018 - roc: 0.9363595476228945\n",
      "epoch gcn: 870 - loss: 0.1700355138305288 - roc: 0.9362761822224146\n",
      "epoch gcn: 875 - loss: 0.16938568071358412 - roc: 0.9365387883074597\n",
      "epoch gcn: 880 - loss: 0.1695507270379983 - roc: 0.9368513034646405\n",
      "epoch gcn: 885 - loss: 0.16900876685523558 - roc: 0.9369389668726394\n",
      "epoch gcn: 890 - loss: 0.16882694454362854 - roc: 0.9374029777349875\n",
      "epoch gcn: 895 - loss: 0.1687066159504894 - roc: 0.9370460546653793\n",
      "epoch gcn: 900 - loss: 0.16895436491381774 - roc: 0.9368912611635489\n",
      "epoch gcn: 905 - loss: 0.16828024043413528 - roc: 0.9376643734199386\n",
      "epoch gcn: 910 - loss: 0.16762572988667113 - roc: 0.9381701612052883\n",
      "epoch gcn: 915 - loss: 0.16801596197764646 - roc: 0.9378200439182439\n",
      "epoch gcn: 920 - loss: 0.1677703625197648 - roc: 0.93779866259922\n",
      "epoch gcn: 925 - loss: 0.16792651059581504 - roc: 0.9376906180830527\n",
      "epoch gcn: 930 - loss: 0.16697809759760118 - roc: 0.938512726175579\n",
      "epoch gcn: 935 - loss: 0.16702827376339793 - roc: 0.9385301936260361\n",
      "epoch gcn: 940 - loss: 0.16670227846829289 - roc: 0.9386914087714782\n",
      "epoch gcn: 945 - loss: 0.16585788437624824 - roc: 0.9392924775127232\n",
      "epoch gcn: 950 - loss: 0.1665696522871222 - roc: 0.9388784192099395\n",
      "epoch gcn: 955 - loss: 0.16646866476026237 - roc: 0.9388755635354664\n",
      "epoch gcn: 960 - loss: 0.16578959514698952 - roc: 0.9392702047014144\n",
      "epoch gcn: 965 - loss: 0.16621851705169188 - roc: 0.9389057510587667\n",
      "epoch gcn: 970 - loss: 0.16568436297924805 - roc: 0.9392888753040606\n",
      "epoch gcn: 975 - loss: 0.16569079108203602 - roc: 0.9393799162356749\n",
      "epoch gcn: 980 - loss: 0.16446508158164586 - roc: 0.940106149044116\n",
      "epoch gcn: 985 - loss: 0.16406772379549422 - roc: 0.94094850053462\n",
      "epoch gcn: 990 - loss: 0.1642763422235027 - roc: 0.9409387376069163\n",
      "epoch gcn: 995 - loss: 0.1650339889665286 - roc: 0.9398474423318285\n",
      "train accuracy:  0.9379468910280705\n",
      "train AUC:  0.9404316307029015\n",
      "train F1:  0.5651558073654391\n",
      "train ap:  0.4266829140049665\n",
      "valid accuracy:  0.9388690050107373\n",
      "valid AUC:  0.9356276371676105\n",
      "valid F1:  0.5759682224428998\n",
      "valid ap:  0.4355472822833758\n",
      "Program finished in 3541.96 seconds\n"
     ]
    }
   ],
   "source": [
    "start_time = time.perf_counter()\n",
    "result_1 = train_1segment(data_train, train_idx, valid_idx, epnum_gcn=1000)\n",
    "finish_time = time.perf_counter()\n",
    "print(f\"Program finished in {round(finish_time-start_time, 2)} seconds\")"
   ],
   "metadata": {
    "collapsed": false
   }
  },
  {
   "cell_type": "markdown",
   "source": [
    "GCN for the first 35 timestamps"
   ],
   "metadata": {
    "collapsed": false
   }
  },
  {
   "cell_type": "code",
   "execution_count": 9,
   "outputs": [
    {
     "name": "stdout",
     "output_type": "stream",
     "text": [
      "Program finished in 2962.1 seconds\n"
     ]
    }
   ],
   "source": [
    "# just for fun check the difference regarding running time\n",
    "start_time = time.perf_counter()\n",
    "result_collected_nonparalell = list()\n",
    "for i in range(1,36):\n",
    "    data_prep(d['features'], d['edges'], d['classes'], i)\n",
    "    result_collected_nonparalell.append(train_1segment(data_train, train_idx, valid_idx, print_res=False, epnum=1000))\n",
    "finish_time = time.perf_counter()\n",
    "print(f\"Program finished in {round(finish_time-start_time, 2)} seconds\")"
   ],
   "metadata": {
    "collapsed": false
   }
  },
  {
   "cell_type": "markdown",
   "source": [
    "GCN for the first 35 timestamps with multiprocessing"
   ],
   "metadata": {
    "collapsed": false
   }
  },
  {
   "cell_type": "code",
   "execution_count": null,
   "outputs": [],
   "source": [
    "start_time = time.perf_counter()\n",
    "result_collected_paralell = Parallel()(delayed(multiproc)(d, i, print_res=True, epnum=1000, test_size=0.7) for i in range(1,36))\n",
    "finish_time = time.perf_counter()\n",
    "print(f\"Program finished in {round(finish_time-start_time, 2)} seconds\")"
   ],
   "metadata": {
    "collapsed": false,
    "pycharm": {
     "is_executing": true
    }
   }
  }
 ],
 "metadata": {
  "kernelspec": {
   "display_name": "Python 3",
   "language": "python",
   "name": "python3"
  },
  "language_info": {
   "codemirror_mode": {
    "name": "ipython",
    "version": 2
   },
   "file_extension": ".py",
   "mimetype": "text/x-python",
   "name": "python",
   "nbconvert_exporter": "python",
   "pygments_lexer": "ipython2",
   "version": "2.7.6"
  }
 },
 "nbformat": 4,
 "nbformat_minor": 0
}
