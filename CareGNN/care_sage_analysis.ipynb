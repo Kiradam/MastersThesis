{
 "cells": [
  {
   "cell_type": "code",
   "execution_count": 1,
   "metadata": {
    "collapsed": true
   },
   "outputs": [],
   "source": [
    "from interface import *\n",
    "import pandas as pd\n",
    "from sklearn.metrics import confusion_matrix"
   ]
  },
  {
   "cell_type": "code",
   "execution_count": 2,
   "outputs": [],
   "source": [
    "list_of_nodes, feature_data, edge_colours, classes = load_data()\n",
    "analysis_hdbscan_care = CareInterface(model_type=ModelType.CARE)\n",
    "analysis_hdbscan_sage = CareInterface(model_type=ModelType.SAGE)\n",
    "analysis_hdbscan_sage.load_model('../models_result/sage_gnn')\n",
    "analysis_hdbscan_care.load_model('../models_result/care_gnn')"
   ],
   "metadata": {
    "collapsed": false
   }
  },
  {
   "cell_type": "code",
   "execution_count": 5,
   "outputs": [
    {
     "data": {
      "text/plain": "gnn_auc    0.931212\ngnn_f1     0.774100\ngnn_ap     0.704434\ndtype: float64"
     },
     "execution_count": 5,
     "metadata": {},
     "output_type": "execute_result"
    }
   ],
   "source": [
    "results_sage = pd.read_csv('../models_result/sage.csv')\n",
    "results_care = pd.read_csv('../models_result/care.csv')\n",
    "results_sage[['gnn_auc', 'gnn_f1', 'gnn_ap']].iloc[30:].agg('mean')"
   ],
   "metadata": {
    "collapsed": false
   }
  },
  {
   "cell_type": "code",
   "execution_count": 6,
   "outputs": [
    {
     "data": {
      "text/plain": "gnn_auc    0.950886\ngnn_f1     0.831806\ngnn_ap     0.798677\ndtype: float64"
     },
     "execution_count": 6,
     "metadata": {},
     "output_type": "execute_result"
    }
   ],
   "source": [
    "results_care[['gnn_auc', 'gnn_f1', 'gnn_ap']].iloc[30:].agg('mean')"
   ],
   "metadata": {
    "collapsed": false
   }
  },
  {
   "cell_type": "code",
   "execution_count": 21,
   "outputs": [
    {
     "data": {
      "text/plain": "array([[38402,  3617],\n       [  546,  3999]], dtype=int64)"
     },
     "execution_count": 21,
     "metadata": {},
     "output_type": "execute_result"
    }
   ],
   "source": [
    "confusion_matrix(classes, [round(x) for x in analysis_hdbscan_sage.predict_proba(feature_data, edge_colours)])"
   ],
   "metadata": {
    "collapsed": false
   }
  }
 ],
 "metadata": {
  "kernelspec": {
   "display_name": "Python 3",
   "language": "python",
   "name": "python3"
  },
  "language_info": {
   "codemirror_mode": {
    "name": "ipython",
    "version": 2
   },
   "file_extension": ".py",
   "mimetype": "text/x-python",
   "name": "python",
   "nbconvert_exporter": "python",
   "pygments_lexer": "ipython2",
   "version": "2.7.6"
  }
 },
 "nbformat": 4,
 "nbformat_minor": 0
}
