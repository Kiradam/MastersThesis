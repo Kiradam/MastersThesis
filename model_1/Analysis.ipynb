{
 "cells": [
  {
   "cell_type": "code",
   "execution_count": 1,
   "outputs": [],
   "source": [
    "# importing relevant packages\n",
    "from joblib import Parallel, delayed\n",
    "from model_1.data_prep import (data_prep, reader)\n",
    "from model_1.trains import (train_1segment, multiproc)\n",
    "import time"
   ],
   "metadata": {
    "collapsed": false
   }
  },
  {
   "cell_type": "markdown",
   "source": [
    "GCN for 1 timestamp"
   ],
   "metadata": {
    "collapsed": false
   }
  },
  {
   "cell_type": "code",
   "execution_count": 2,
   "outputs": [],
   "source": [
    "# reading and preparing data\n",
    "d = reader('../data/')\n",
    "data_train, X_train, X_valid, y_train, y_valid, train_idx, valid_idx, classified_idx, unclassified_idx = data_prep(\n",
    "    d['features'],\n",
    "    d['edges'],\n",
    "    d['classes'],\n",
    "    4)"
   ],
   "metadata": {
    "collapsed": false
   }
  },
  {
   "cell_type": "code",
   "execution_count": 3,
   "outputs": [
    {
     "name": "stdout",
     "output_type": "stream",
     "text": [
      "epoch: 0 - loss: 2.0678105473431763 - roc: 0.3066649544111982\n",
      "epoch: 5 - loss: 0.1560915189804563 - roc: 0.7596314370104019\n",
      "epoch: 10 - loss: 0.15198839202000677 - roc: 0.8473738281751637\n",
      "epoch: 15 - loss: 0.10486691602974298 - roc: 0.9129960190060357\n",
      "epoch: 20 - loss: 0.0702533076445403 - roc: 0.9394503659946064\n",
      "epoch: 25 - loss: 0.05439643763752891 - roc: 0.9600616411968665\n",
      "epoch: 30 - loss: 0.043133377791162664 - roc: 0.978682419416977\n",
      "epoch: 35 - loss: 0.03553434285606293 - roc: 0.9880249133170669\n",
      "epoch: 40 - loss: 0.031103891001566183 - roc: 0.9926801078720946\n",
      "epoch: 45 - loss: 0.028016655597066505 - roc: 0.9956337485552844\n",
      "epoch: 50 - loss: 0.02399043843530733 - roc: 0.9966932066264287\n",
      "epoch: 55 - loss: 0.021163016595236294 - roc: 0.9982663413381276\n",
      "epoch: 60 - loss: 0.018131190841236093 - roc: 0.9990689610889945\n",
      "epoch: 65 - loss: 0.016514586615313593 - roc: 0.9997431616797227\n",
      "train accuracy:  0.9934640522875817\n",
      "train AUC:  0.9998394760498266\n",
      "valid accuracy:  0.9861111111111112\n",
      "valid AUC:  0.9846698113207547\n",
      "Program finished in 5.31 seconds\n"
     ]
    }
   ],
   "source": [
    "start_time = time.perf_counter()\n",
    "result_1 = train_1segment(data_train, train_idx, valid_idx)\n",
    "finish_time = time.perf_counter()\n",
    "print(f\"Program finished in {round(finish_time-start_time, 2)} seconds\")"
   ],
   "metadata": {
    "collapsed": false
   }
  },
  {
   "cell_type": "markdown",
   "source": [
    "GCN for the first 35 timestamps"
   ],
   "metadata": {
    "collapsed": false
   }
  },
  {
   "cell_type": "code",
   "execution_count": 4,
   "outputs": [
    {
     "name": "stdout",
     "output_type": "stream",
     "text": [
      "Program finished in 257.91 seconds\n"
     ]
    }
   ],
   "source": [
    "# just for fun check the difference regarding running time\n",
    "start_time = time.perf_counter()\n",
    "result_collected_nonparalell = list()\n",
    "for i in range(1,36):\n",
    "    data_prep(d['features'], d['edges'], d['classes'], i)\n",
    "    result_collected_nonparalell.append(train_1segment(data_train, train_idx, valid_idx, print_res=False, epnum=100))\n",
    "finish_time = time.perf_counter()\n",
    "print(f\"Program finished in {round(finish_time-start_time, 2)} seconds\")"
   ],
   "metadata": {
    "collapsed": false
   }
  },
  {
   "cell_type": "markdown",
   "source": [
    "GCN for the first 35 timestamps with multiprocessing"
   ],
   "metadata": {
    "collapsed": false
   }
  },
  {
   "cell_type": "code",
   "execution_count": 5,
   "outputs": [
    {
     "name": "stdout",
     "output_type": "stream",
     "text": [
      "Program finished in 178.6 seconds\n"
     ]
    }
   ],
   "source": [
    "start_time = time.perf_counter()\n",
    "result_collected_paralell = Parallel()(delayed(multiproc)(d, i, print_res=False, epnum=100) for i in range(1,36))\n",
    "finish_time = time.perf_counter()\n",
    "print(f\"Program finished in {round(finish_time-start_time, 2)} seconds\")"
   ],
   "metadata": {
    "collapsed": false
   }
  }
 ],
 "metadata": {
  "kernelspec": {
   "display_name": "Python 3",
   "language": "python",
   "name": "python3"
  },
  "language_info": {
   "codemirror_mode": {
    "name": "ipython",
    "version": 2
   },
   "file_extension": ".py",
   "mimetype": "text/x-python",
   "name": "python",
   "nbconvert_exporter": "python",
   "pygments_lexer": "ipython2",
   "version": "2.7.6"
  }
 },
 "nbformat": 4,
 "nbformat_minor": 0
}
