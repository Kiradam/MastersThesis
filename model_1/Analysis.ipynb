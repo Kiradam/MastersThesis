{
 "cells": [
  {
   "cell_type": "code",
   "execution_count": 1,
   "outputs": [],
   "source": [
    "# importing relevant packages\n",
    "from joblib import Parallel, delayed\n",
    "from model_1.data_prep import (data_prep, reader)\n",
    "from model_1.trains import (train_1segment, multiproc)\n",
    "import time"
   ],
   "metadata": {
    "collapsed": false
   }
  },
  {
   "cell_type": "markdown",
   "source": [
    "GCN for 1 timestamp"
   ],
   "metadata": {
    "collapsed": false
   }
  },
  {
   "cell_type": "code",
   "execution_count": 2,
   "outputs": [
    {
     "data": {
      "text/plain": "\"data_train, X_train, X_valid, y_train, y_valid, train_idx, valid_idx, classified_idx, unclassified_idx = data_prep(\\n    d['features'],\\n    d['edges'],\\n    d['classes'],\\n    4)\""
     },
     "execution_count": 2,
     "metadata": {},
     "output_type": "execute_result"
    }
   ],
   "source": [
    "# reading and preparing data\n",
    "d = reader('../data/')\n",
    "data_train, X_train, X_valid, y_train, y_valid, train_idx, valid_idx, classified_idx, unclassified_idx = data_prep(\n",
    "    d['features'],\n",
    "    d['edges'],\n",
    "    d['classes'],\n",
    "    4)"
   ],
   "metadata": {
    "collapsed": false
   }
  },
  {
   "cell_type": "code",
   "execution_count": 3,
   "outputs": [
    {
     "name": "stdout",
     "output_type": "stream",
     "text": [
      "epoch: 0 - loss: 1.254783686678275 - roc: 0.5225054578143059\n",
      "epoch: 5 - loss: 1.1383355828537043 - roc: 0.5365031462694234\n",
      "epoch: 10 - loss: 0.991861888810422 - roc: 0.562186978297162\n",
      "epoch: 15 - loss: 0.8568262377540985 - roc: 0.6453383844869656\n",
      "epoch: 20 - loss: 0.7591020002930456 - roc: 0.629574932579941\n",
      "epoch: 25 - loss: 0.7098996753250206 - roc: 0.6404263516116604\n",
      "epoch: 30 - loss: 0.6078860561813939 - roc: 0.6861114678310004\n",
      "epoch: 35 - loss: 0.5314073638603928 - roc: 0.6753884679594195\n",
      "epoch: 40 - loss: 0.47941088929160997 - roc: 0.728489790676769\n",
      "epoch: 45 - loss: 0.4435781301002995 - roc: 0.6681327854115834\n",
      "epoch: 50 - loss: 0.39710103366205846 - roc: 0.7268845511750354\n",
      "epoch: 55 - loss: 0.3663471714447307 - roc: 0.6914729677667908\n",
      "epoch: 60 - loss: 0.34258925262420986 - roc: 0.6827725696673944\n",
      "epoch: 65 - loss: 0.31706345571699746 - roc: 0.6868819827918325\n",
      "epoch: 70 - loss: 0.29112695222217283 - roc: 0.751669449081803\n",
      "epoch: 75 - loss: 0.2777155480070117 - roc: 0.6958392192115064\n",
      "epoch: 80 - loss: 0.26393066463360804 - roc: 0.6902850905355079\n",
      "epoch: 85 - loss: 0.24506707052930832 - roc: 0.7706112752022602\n",
      "epoch: 90 - loss: 0.23197500526307802 - roc: 0.7726338769744445\n",
      "epoch: 95 - loss: 0.22194950234734953 - roc: 0.7581546166688069\n",
      "epoch: 100 - loss: 0.21135728164256812 - roc: 0.7602093232310261\n",
      "epoch: 105 - loss: 0.2030604574300549 - roc: 0.7388596378579685\n",
      "epoch: 110 - loss: 0.19706930920055107 - roc: 0.7330807756517272\n",
      "epoch: 115 - loss: 0.18896627135848612 - roc: 0.7566135867471426\n",
      "epoch: 120 - loss: 0.18293553791344985 - roc: 0.7628419160138692\n",
      "epoch: 125 - loss: 0.17652730873295788 - roc: 0.748330550918197\n",
      "epoch: 130 - loss: 0.1707587961121566 - roc: 0.769937074611532\n",
      "epoch: 135 - loss: 0.1637459598591713 - roc: 0.7851868498780018\n",
      "epoch: 140 - loss: 0.16024613627397352 - roc: 0.7890715294721973\n",
      "epoch: 145 - loss: 0.15330467194054612 - roc: 0.8124117118274047\n",
      "epoch: 150 - loss: 0.15271173171898444 - roc: 0.7771606523693335\n",
      "epoch: 155 - loss: 0.14565758217061647 - roc: 0.79616668806986\n",
      "epoch: 160 - loss: 0.14433542351813514 - roc: 0.7746243739565943\n",
      "epoch: 165 - loss: 0.1360160578389619 - roc: 0.8196994991652755\n",
      "epoch: 170 - loss: 0.13771394837652828 - roc: 0.7987671760626684\n",
      "epoch: 175 - loss: 0.13249845552990155 - roc: 0.7996661101836394\n",
      "epoch: 180 - loss: 0.130219118589638 - roc: 0.8148516758700398\n",
      "epoch: 185 - loss: 0.13131050307300782 - roc: 0.7914472839347632\n",
      "epoch: 190 - loss: 0.1260810903903063 - roc: 0.8176447926030563\n",
      "epoch: 195 - loss: 0.12394857671590849 - roc: 0.8111596250160524\n",
      "epoch: 200 - loss: 0.12186249164907753 - roc: 0.8254462565814821\n",
      "epoch: 205 - loss: 0.12057360715031117 - roc: 0.8127327597277514\n",
      "epoch: 210 - loss: 0.11889995151159607 - roc: 0.8244189033003724\n",
      "epoch: 215 - loss: 0.11847781388885575 - roc: 0.8086233466033133\n",
      "epoch: 220 - loss: 0.11520692467631691 - roc: 0.8284962116347759\n",
      "epoch: 225 - loss: 0.11372736433889098 - roc: 0.8277578014639784\n",
      "epoch: 230 - loss: 0.11300067309687478 - roc: 0.821015795556697\n",
      "epoch: 235 - loss: 0.10959659723219292 - roc: 0.8418839090792347\n",
      "epoch: 240 - loss: 0.10810117347106654 - roc: 0.8283356876846025\n",
      "epoch: 245 - loss: 0.10737507902351286 - roc: 0.832412996019006\n",
      "epoch: 250 - loss: 0.10421138686141815 - roc: 0.8503274688583536\n",
      "epoch: 255 - loss: 0.1040485096423355 - roc: 0.8500385257480416\n",
      "epoch: 260 - loss: 0.10262462295046156 - roc: 0.8449659689225633\n",
      "epoch: 265 - loss: 0.10318729055414999 - roc: 0.8467317323744703\n",
      "epoch: 270 - loss: 0.10140980164957031 - roc: 0.8363939899833055\n",
      "epoch: 275 - loss: 0.09837701881993106 - roc: 0.8582894567869526\n",
      "epoch: 280 - loss: 0.10361868789082335 - roc: 0.8293630409657121\n",
      "epoch: 285 - loss: 0.09639616339370366 - roc: 0.856876846025427\n",
      "epoch: 290 - loss: 0.09888280443656541 - roc: 0.8474701425452678\n",
      "epoch: 295 - loss: 0.09631114681372119 - roc: 0.8537947861820984\n",
      "epoch: 300 - loss: 0.09378296556287109 - roc: 0.8610825735199691\n",
      "epoch: 305 - loss: 0.09452679125605774 - roc: 0.8641967381533324\n",
      "epoch: 310 - loss: 0.09192308543155199 - roc: 0.8683382560678053\n",
      "epoch: 315 - loss: 0.09149164292644923 - roc: 0.8777449595479645\n",
      "epoch: 320 - loss: 0.08958954274592881 - roc: 0.8837806600744831\n",
      "epoch: 325 - loss: 0.08970052826669135 - roc: 0.8690445614485682\n",
      "epoch: 330 - loss: 0.08885434717096512 - roc: 0.8779696930782073\n",
      "epoch: 335 - loss: 0.08876437230025923 - roc: 0.8755939386156415\n",
      "epoch: 340 - loss: 0.0879039976786167 - roc: 0.8819185822524721\n",
      "epoch: 345 - loss: 0.08945043807598868 - roc: 0.8653846153846153\n",
      "epoch: 350 - loss: 0.08856294690492622 - roc: 0.8690766662386028\n",
      "epoch: 355 - loss: 0.08690223141486356 - roc: 0.8754013098754334\n",
      "epoch: 360 - loss: 0.08563448868834841 - roc: 0.8721908308719661\n",
      "epoch: 365 - loss: 0.08303981019252231 - roc: 0.884775908565558\n",
      "epoch: 370 - loss: 0.08222195598962612 - roc: 0.8919994863233595\n",
      "epoch: 375 - loss: 0.08156292528949612 - roc: 0.8884358546295108\n",
      "epoch: 380 - loss: 0.08292369880492881 - roc: 0.8799922948503917\n",
      "epoch: 385 - loss: 0.07985777587457829 - roc: 0.9011172466932067\n",
      "epoch: 390 - loss: 0.08176727275466468 - roc: 0.8867985103377424\n",
      "epoch: 395 - loss: 0.08061689375343414 - roc: 0.8864774624373957\n",
      "epoch: 400 - loss: 0.07985886680596008 - roc: 0.8923526390137408\n",
      "epoch: 405 - loss: 0.07819956712642079 - roc: 0.9074097855400025\n",
      "epoch: 410 - loss: 0.07980748056541691 - roc: 0.889591627070759\n",
      "epoch: 415 - loss: 0.07731416127026293 - roc: 0.9046166688069861\n",
      "epoch: 420 - loss: 0.0782572232775777 - roc: 0.8929626300243996\n",
      "epoch: 425 - loss: 0.07815256286860017 - roc: 0.8988378066007449\n",
      "epoch: 430 - loss: 0.07488327816990935 - roc: 0.907762938230384\n",
      "epoch: 435 - loss: 0.07444934312759033 - roc: 0.9055798125080262\n",
      "epoch: 440 - loss: 0.07520296891809926 - roc: 0.9105239501733658\n",
      "epoch: 445 - loss: 0.07561418707687861 - roc: 0.9061255939386157\n",
      "epoch: 450 - loss: 0.07212361765688775 - roc: 0.9245858482085527\n",
      "epoch: 455 - loss: 0.07480699753723076 - roc: 0.9060292795685116\n",
      "epoch: 460 - loss: 0.07368000081042884 - roc: 0.916013869269295\n",
      "epoch: 465 - loss: 0.07239185600972727 - roc: 0.9230127134968537\n",
      "epoch: 470 - loss: 0.07271727331027794 - roc: 0.9097534352125337\n",
      "epoch: 475 - loss: 0.07389471064619581 - roc: 0.9123539232053421\n",
      "epoch: 480 - loss: 0.06992140794858248 - roc: 0.9114549890843714\n",
      "epoch: 485 - loss: 0.07028023907225393 - roc: 0.9253884679594195\n",
      "epoch: 490 - loss: 0.07063059636493359 - roc: 0.9240079619879286\n",
      "epoch: 495 - loss: 0.07138627428293223 - roc: 0.9174585848208553\n",
      "epoch: 500 - loss: 0.06895325582229202 - roc: 0.9252279440092461\n",
      "epoch: 505 - loss: 0.06960671544738835 - roc: 0.9171696417105433\n",
      "epoch: 510 - loss: 0.0682996036180187 - roc: 0.9324194169770129\n",
      "epoch: 515 - loss: 0.06917535630824116 - roc: 0.9199948632335946\n",
      "epoch: 520 - loss: 0.06857469822121204 - roc: 0.9143123153974574\n",
      "epoch: 525 - loss: 0.06838811649217363 - roc: 0.9278605367920894\n",
      "epoch: 530 - loss: 0.06683941257116709 - roc: 0.9303968152048285\n",
      "epoch: 535 - loss: 0.06796707034506405 - roc: 0.9220174650057789\n",
      "epoch: 540 - loss: 0.06621199370091195 - roc: 0.9265442404006679\n",
      "epoch: 545 - loss: 0.06732838790991444 - roc: 0.9239758571978939\n",
      "epoch: 550 - loss: 0.06576735281777452 - roc: 0.9243290098882753\n",
      "epoch: 555 - loss: 0.06456121436792125 - roc: 0.9363683061512779\n",
      "epoch: 560 - loss: 0.06612961075245802 - roc: 0.9320341594965968\n",
      "epoch: 565 - loss: 0.06440387030789968 - roc: 0.9316489020161808\n",
      "epoch: 570 - loss: 0.06464444916483747 - roc: 0.9358867343007576\n",
      "epoch: 575 - loss: 0.06503990544137364 - roc: 0.932515731347117\n",
      "epoch: 580 - loss: 0.06388609275259323 - roc: 0.9318736355464236\n",
      "epoch: 585 - loss: 0.0628926585913057 - roc: 0.9508475664569154\n",
      "epoch: 590 - loss: 0.06291287659218442 - roc: 0.9430461024784899\n",
      "epoch: 595 - loss: 0.0630459982825363 - roc: 0.9395145755746759\n",
      "epoch: 600 - loss: 0.06238882744821813 - roc: 0.938808270193913\n",
      "epoch: 605 - loss: 0.06209619160782316 - roc: 0.942725054578143\n",
      "epoch: 610 - loss: 0.062243010495853617 - roc: 0.9433992551688712\n",
      "epoch: 615 - loss: 0.06043968255557896 - roc: 0.9457108000513677\n",
      "epoch: 620 - loss: 0.05990072386436872 - roc: 0.9500128419160139\n",
      "epoch: 625 - loss: 0.06139260115086187 - roc: 0.9420829587774495\n",
      "epoch: 630 - loss: 0.06153630248372649 - roc: 0.9382624887633235\n",
      "epoch: 635 - loss: 0.059702964958313585 - roc: 0.9463850006420957\n",
      "epoch: 640 - loss: 0.05954959430321178 - roc: 0.9493707461153204\n",
      "epoch: 645 - loss: 0.05984520079432142 - roc: 0.9464813150121998\n",
      "epoch: 650 - loss: 0.05740715666160238 - roc: 0.9554706562219082\n",
      "epoch: 655 - loss: 0.05852692152072293 - roc: 0.9582316681648901\n",
      "epoch: 660 - loss: 0.058494487831093366 - roc: 0.9555027610119431\n",
      "epoch: 665 - loss: 0.05946408953980671 - roc: 0.9462565814819571\n",
      "epoch: 670 - loss: 0.05768636001791243 - roc: 0.9565622190830871\n",
      "epoch: 675 - loss: 0.05902054510928949 - roc: 0.9506228329266726\n",
      "epoch: 680 - loss: 0.05847957898257997 - roc: 0.9543790933607295\n",
      "epoch: 685 - loss: 0.05710240287124773 - roc: 0.957461153204058\n",
      "epoch: 690 - loss: 0.05748077270256869 - roc: 0.9570437909336073\n",
      "epoch: 695 - loss: 0.05683738284914845 - roc: 0.9616989854886349\n",
      "epoch: 700 - loss: 0.05719575568837898 - roc: 0.9561448568126365\n",
      "epoch: 705 - loss: 0.05613701009121769 - roc: 0.9596442789264158\n",
      "epoch: 710 - loss: 0.05678344357304567 - roc: 0.9567227430332605\n",
      "epoch: 715 - loss: 0.05738991676101014 - roc: 0.9527096442789265\n",
      "epoch: 720 - loss: 0.05653551448457205 - roc: 0.9532875304995505\n",
      "epoch: 725 - loss: 0.05448536404093764 - roc: 0.9658726081931424\n",
      "epoch: 730 - loss: 0.055462775838622864 - roc: 0.9591627070758958\n",
      "epoch: 735 - loss: 0.054250588836961405 - roc: 0.9656799794529344\n",
      "epoch: 740 - loss: 0.055498059703391896 - roc: 0.960800051367664\n",
      "epoch: 745 - loss: 0.054254378261044726 - roc: 0.9630473866700913\n",
      "epoch: 750 - loss: 0.056159879994080855 - roc: 0.9568511621933993\n",
      "epoch: 755 - loss: 0.05364850652382632 - roc: 0.9652947219725183\n",
      "epoch: 760 - loss: 0.05303243723458116 - roc: 0.9717477847694875\n",
      "epoch: 765 - loss: 0.05392100948318653 - roc: 0.9623089764992937\n",
      "epoch: 770 - loss: 0.05318230604304535 - roc: 0.9696609734172339\n",
      "epoch: 775 - loss: 0.051897683522059486 - roc: 0.9697572877873379\n",
      "epoch: 780 - loss: 0.05189825913397671 - roc: 0.9695004494670605\n",
      "epoch: 785 - loss: 0.0538908043553881 - roc: 0.9616347759085656\n",
      "epoch: 790 - loss: 0.0521146131912969 - roc: 0.9636573776807499\n",
      "epoch: 795 - loss: 0.05222711124644226 - roc: 0.9645563118017209\n",
      "epoch: 800 - loss: 0.05146874353654344 - roc: 0.9696288686271991\n",
      "epoch: 805 - loss: 0.052768262342039934 - roc: 0.97004623089765\n",
      "epoch: 810 - loss: 0.05186334562632365 - roc: 0.9696609734172339\n",
      "epoch: 815 - loss: 0.05132200201192221 - roc: 0.9731282907409786\n",
      "epoch: 820 - loss: 0.05089238113023977 - roc: 0.9732888146911519\n",
      "epoch: 825 - loss: 0.05081964628682815 - roc: 0.9704314883780659\n",
      "epoch: 830 - loss: 0.050950478140138845 - roc: 0.97004623089765\n",
      "epoch: 835 - loss: 0.04996263013170431 - roc: 0.9745730062925388\n",
      "epoch: 840 - loss: 0.049502785706153754 - roc: 0.9745730062925388\n",
      "epoch: 845 - loss: 0.051179623888328876 - roc: 0.9685052009759857\n",
      "epoch: 850 - loss: 0.049206568725404215 - roc: 0.9759856170540644\n",
      "epoch: 855 - loss: 0.048100354603385916 - roc: 0.9798060870681905\n",
      "epoch: 860 - loss: 0.04839918136788438 - roc: 0.9768524463850007\n",
      "epoch: 865 - loss: 0.0486619426458484 - roc: 0.9761461410042378\n",
      "epoch: 870 - loss: 0.04762325635000607 - roc: 0.9799987158083987\n",
      "epoch: 875 - loss: 0.05078596273130987 - roc: 0.972004623089765\n",
      "epoch: 880 - loss: 0.0482002328108553 - roc: 0.9787145242070117\n",
      "epoch: 885 - loss: 0.0474719905112687 - roc: 0.9785218954668036\n",
      "epoch: 890 - loss: 0.047985509753930435 - roc: 0.9769808655451393\n",
      "epoch: 895 - loss: 0.04713546656760878 - roc: 0.9790997816874277\n",
      "epoch: 900 - loss: 0.04801676371605301 - roc: 0.9770450751252087\n",
      "epoch: 905 - loss: 0.04777715794308214 - roc: 0.9786824194169771\n",
      "epoch: 910 - loss: 0.04662909267081313 - roc: 0.9809297547194041\n",
      "epoch: 915 - loss: 0.04643499320666856 - roc: 0.9808655451393349\n",
      "epoch: 920 - loss: 0.04740405955429361 - roc: 0.9783613715166304\n",
      "epoch: 925 - loss: 0.046682992241750605 - roc: 0.9807050211891615\n",
      "epoch: 930 - loss: 0.04588619665071978 - roc: 0.9793887247977398\n",
      "epoch: 935 - loss: 0.04539548424080874 - roc: 0.9828560421214845\n",
      "epoch: 940 - loss: 0.046353893294870205 - roc: 0.9810581738795429\n",
      "epoch: 945 - loss: 0.04672767207765672 - roc: 0.9825670990111725\n",
      "epoch: 950 - loss: 0.04663992542214592 - roc: 0.9794850391678438\n",
      "epoch: 955 - loss: 0.046377044859127414 - roc: 0.9820855271606524\n",
      "epoch: 960 - loss: 0.04551085405964923 - roc: 0.9817002696802363\n",
      "epoch: 965 - loss: 0.04444102032509475 - roc: 0.9838191858225248\n",
      "epoch: 970 - loss: 0.044140413165297494 - roc: 0.9836907666623861\n",
      "epoch: 975 - loss: 0.044136140969438686 - roc: 0.9840439193527675\n",
      "epoch: 980 - loss: 0.04471708380052535 - roc: 0.980159239758572\n",
      "epoch: 985 - loss: 0.04595713794028233 - roc: 0.9818607936304097\n",
      "epoch: 990 - loss: 0.04498207396273207 - roc: 0.9825028894311031\n",
      "epoch: 995 - loss: 0.04558435413071667 - roc: 0.9833055091819699\n",
      "train accuracy:  0.9861111111111112\n",
      "train AUC:  0.9836586618723514\n",
      "train F1:  0.5142857142857142\n",
      "valid accuracy:  0.9814814814814815\n",
      "valid AUC:  0.9316037735849056\n",
      "valid F1:  0.0\n",
      "Program finished in 86.23 seconds\n"
     ]
    }
   ],
   "source": [
    "start_time = time.perf_counter()\n",
    "result_1 = train_1segment(data_train, train_idx, valid_idx, epnum=1000)\n",
    "finish_time = time.perf_counter()\n",
    "print(f\"Program finished in {round(finish_time-start_time, 2)} seconds\")"
   ],
   "metadata": {
    "collapsed": false
   }
  },
  {
   "cell_type": "markdown",
   "source": [
    "GCN for the first 35 timestamps"
   ],
   "metadata": {
    "collapsed": false
   }
  },
  {
   "cell_type": "code",
   "execution_count": 9,
   "outputs": [
    {
     "name": "stdout",
     "output_type": "stream",
     "text": [
      "Program finished in 2962.1 seconds\n"
     ]
    }
   ],
   "source": [
    "# just for fun check the difference regarding running time\n",
    "start_time = time.perf_counter()\n",
    "result_collected_nonparalell = list()\n",
    "for i in range(1,36):\n",
    "    data_prep(d['features'], d['edges'], d['classes'], i)\n",
    "    result_collected_nonparalell.append(train_1segment(data_train, train_idx, valid_idx, print_res=False, epnum=1000))\n",
    "finish_time = time.perf_counter()\n",
    "print(f\"Program finished in {round(finish_time-start_time, 2)} seconds\")"
   ],
   "metadata": {
    "collapsed": false
   }
  },
  {
   "cell_type": "markdown",
   "source": [
    "GCN for the first 35 timestamps with multiprocessing"
   ],
   "metadata": {
    "collapsed": false
   }
  },
  {
   "cell_type": "code",
   "execution_count": 3,
   "outputs": [
    {
     "name": "stdout",
     "output_type": "stream",
     "text": [
      "Program finished in 217.59 seconds\n"
     ]
    }
   ],
   "source": [
    "start_time = time.perf_counter()\n",
    "result_collected_paralell = Parallel()(delayed(multiproc)(d, i, print_res=False, epnum=1000, test_size=0) for i in range(1,4))\n",
    "finish_time = time.perf_counter()\n",
    "print(f\"Program finished in {round(finish_time-start_time, 2)} seconds\")"
   ],
   "metadata": {
    "collapsed": false
   }
  }
 ],
 "metadata": {
  "kernelspec": {
   "display_name": "Python 3",
   "language": "python",
   "name": "python3"
  },
  "language_info": {
   "codemirror_mode": {
    "name": "ipython",
    "version": 2
   },
   "file_extension": ".py",
   "mimetype": "text/x-python",
   "name": "python",
   "nbconvert_exporter": "python",
   "pygments_lexer": "ipython2",
   "version": "2.7.6"
  }
 },
 "nbformat": 4,
 "nbformat_minor": 0
}
